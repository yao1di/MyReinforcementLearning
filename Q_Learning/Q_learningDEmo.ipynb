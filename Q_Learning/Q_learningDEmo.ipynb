{
 "cells": [
  {
   "cell_type": "code",
   "execution_count": 2,
   "metadata": {},
   "outputs": [
    {
     "name": "stdout",
     "output_type": "stream",
     "text": [
      "+---------+\n",
      "|\u001b[34;1mR\u001b[0m: | : :\u001b[35mG\u001b[0m|\n",
      "| : | : : |\n",
      "| : : : : |\n",
      "| | : | : |\n",
      "|Y|\u001b[43m \u001b[0m: |B: |\n",
      "+---------+\n",
      "\n",
      "\n",
      "Action Space Discrete(6)\n",
      "State Space Discrete(500)\n"
     ]
    }
   ],
   "source": [
    "import gym\n",
    "env = gym.make(\"Taxi-v3\",render_mode='ansi')\n",
    "env.reset()\n",
    "print(env.render())\n",
    "print(\"Action Space {}\".format(env.action_space))\n",
    "print(\"State Space {}\".format(env.observation_space))"
   ]
  },
  {
   "cell_type": "code",
   "execution_count": 3,
   "metadata": {},
   "outputs": [
    {
     "name": "stdout",
     "output_type": "stream",
     "text": [
      "State: 328\n",
      "+---------+\n",
      "|\u001b[34;1mR\u001b[0m: | : :\u001b[35mG\u001b[0m|\n",
      "| : | : : |\n",
      "| : : : : |\n",
      "| | : | : |\n",
      "|Y|\u001b[43m \u001b[0m: |B: |\n",
      "+---------+\n",
      "\n",
      "\n"
     ]
    }
   ],
   "source": [
    "state = env.encode(3,1,2,0)\n",
    "print(\"State:\",state)\n",
    "\n",
    "env.s = state\n",
    "print(env.render()) #说明这个状态位于0~499的328索引处"
   ]
  },
  {
   "cell_type": "code",
   "execution_count": 6,
   "metadata": {},
   "outputs": [
    {
     "data": {
      "text/plain": [
       "{0: [(1.0, 428, -1, False)],\n",
       " 1: [(1.0, 228, -1, False)],\n",
       " 2: [(1.0, 348, -1, False)],\n",
       " 3: [(1.0, 328, -1, False)],\n",
       " 4: [(1.0, 328, -10, False)],\n",
       " 5: [(1.0, 328, -10, False)]}"
      ]
     },
     "execution_count": 6,
     "metadata": {},
     "output_type": "execute_result"
    }
   ],
   "source": [
    "env.P[328]\n",
    "# {action: [(probability, nextstate, reward, done)]}."
   ]
  },
  {
   "cell_type": "markdown",
   "metadata": {},
   "source": [
    "P是初始的Reward矩阵，states x actions 矩阵。\n",
    "所有的操作都有-1的reward, 接送操作有-10的reward，\n",
    "如果使用蛮力解决问题，思路如下："
   ]
  },
  {
   "cell_type": "code",
   "execution_count": 9,
   "metadata": {},
   "outputs": [
    {
     "name": "stdout",
     "output_type": "stream",
     "text": [
      "Timesteps take: 3864\n",
      "Penaltied incurred: 1259\n"
     ]
    }
   ],
   "source": [
    "env.s = 328\n",
    "\n",
    "epochs = 0\n",
    "penalties,reward = 0,0\n",
    "\n",
    "frames = []\n",
    "\n",
    "done  = False\n",
    "while not done:\n",
    "    action = env.action_space.sample()\n",
    "    state,reward,done,_,info = env.step(action)\n",
    "    if reward==-10:\n",
    "        penalties +=1\n",
    "    \n",
    "    frames.append({\n",
    "        'frame':env.render(),\n",
    "        'state':state,\n",
    "        'action':action,\n",
    "        'reward':reward\n",
    "    })\n",
    "\n",
    "    epochs +=1\n",
    "\n",
    "print(\"Timesteps take: {}\".format(epochs))\n",
    "print(\"Penaltied incurred: {}\".format(penalties))\n"
   ]
  },
  {
   "cell_type": "markdown",
   "metadata": {},
   "source": [
    "`env.action_space.sample()`随机选择一个可以采取的行动\n"
   ]
  },
  {
   "cell_type": "code",
   "execution_count": 11,
   "metadata": {},
   "outputs": [
    {
     "name": "stdout",
     "output_type": "stream",
     "text": [
      "+---------+\n",
      "|R: | :\u001b[43m \u001b[0m:\u001b[35mG\u001b[0m|\n",
      "| : | : : |\n",
      "| : : : : |\n",
      "| | : | : |\n",
      "|\u001b[34;1mY\u001b[0m| : |B: |\n",
      "+---------+\n",
      "  (North)\n",
      "\n",
      "TimeStep:596\n",
      "State: 69\n",
      "Action: 1\n",
      "Reward:-1\n"
     ]
    },
    {
     "ename": "KeyboardInterrupt",
     "evalue": "",
     "output_type": "error",
     "traceback": [
      "\u001b[1;31m---------------------------------------------------------------------------\u001b[0m",
      "\u001b[1;31mKeyboardInterrupt\u001b[0m                         Traceback (most recent call last)",
      "Input \u001b[1;32mIn [11]\u001b[0m, in \u001b[0;36m<cell line: 13>\u001b[1;34m()\u001b[0m\n\u001b[0;32m     10\u001b[0m         \u001b[38;5;28mprint\u001b[39m(\u001b[38;5;124mf\u001b[39m\u001b[38;5;124m\"\u001b[39m\u001b[38;5;124mReward:\u001b[39m\u001b[38;5;132;01m{\u001b[39;00mframe[\u001b[38;5;124m'\u001b[39m\u001b[38;5;124mreward\u001b[39m\u001b[38;5;124m'\u001b[39m]\u001b[38;5;132;01m}\u001b[39;00m\u001b[38;5;124m\"\u001b[39m)\n\u001b[0;32m     11\u001b[0m         sleep(\u001b[38;5;241m0.1\u001b[39m)\n\u001b[1;32m---> 13\u001b[0m \u001b[43mprint_frames\u001b[49m\u001b[43m(\u001b[49m\u001b[43mframes\u001b[49m\u001b[43m)\u001b[49m\n",
      "Input \u001b[1;32mIn [11]\u001b[0m, in \u001b[0;36mprint_frames\u001b[1;34m(frames)\u001b[0m\n\u001b[0;32m      9\u001b[0m \u001b[38;5;28mprint\u001b[39m(\u001b[38;5;124mf\u001b[39m\u001b[38;5;124m\"\u001b[39m\u001b[38;5;124mAction: \u001b[39m\u001b[38;5;132;01m{\u001b[39;00mframe[\u001b[38;5;124m'\u001b[39m\u001b[38;5;124maction\u001b[39m\u001b[38;5;124m'\u001b[39m]\u001b[38;5;132;01m}\u001b[39;00m\u001b[38;5;124m\"\u001b[39m)\n\u001b[0;32m     10\u001b[0m \u001b[38;5;28mprint\u001b[39m(\u001b[38;5;124mf\u001b[39m\u001b[38;5;124m\"\u001b[39m\u001b[38;5;124mReward:\u001b[39m\u001b[38;5;132;01m{\u001b[39;00mframe[\u001b[38;5;124m'\u001b[39m\u001b[38;5;124mreward\u001b[39m\u001b[38;5;124m'\u001b[39m]\u001b[38;5;132;01m}\u001b[39;00m\u001b[38;5;124m\"\u001b[39m)\n\u001b[1;32m---> 11\u001b[0m \u001b[43msleep\u001b[49m\u001b[43m(\u001b[49m\u001b[38;5;241;43m0.1\u001b[39;49m\u001b[43m)\u001b[49m\n",
      "\u001b[1;31mKeyboardInterrupt\u001b[0m: "
     ]
    }
   ],
   "source": [
    "from IPython.display import clear_output\n",
    "from time import sleep\n",
    "def print_frames(frames):\n",
    "    for i,frame in enumerate(frames):\n",
    "        clear_output(wait=True)\n",
    "        print(frame['frame'])\n",
    "        print(f\"TimeStep:{i+1}\")\n",
    "        print(f\"State: {frame['state']}\")\n",
    "        print(f\"Action: {frame['action']}\")\n",
    "        print(f\"Reward:{frame['reward']}\")\n",
    "        sleep(0.1)\n",
    "\n",
    "print_frames(frames)"
   ]
  },
  {
   "cell_type": "markdown",
   "metadata": {},
   "source": [
    "### Q-learning 学习\n",
    "提供记忆的强化学习算法\n",
    "Reward: `P`，可以从agent中学习而得\n",
    "Q-values,Q-table: (state,action)\n",
    "$$\n",
    "Q(state,action) \\leftarrow \n",
    "(1-\\alpha) Q(state,action)+ \\alpha(reward + \\gamma max_{a}Q(next state,all actions))\n",
    "$$\n",
    "Q-table是一个表，存储了每个状态下 每个action的Q-value\n",
    "\n",
    "| ~~~ | Actions| | | | | | \n",
    "| ------ | ------ | ------ | ------ | ------ |------ | ------ |\n",
    "|States| South(0) | North(1) | East(2) | West(3)| Pickup(4)| Dropoff(5)|\n",
    "|0 |  |  |  |  |  | |\n",
    "|... |  |  |  |  |  | |\n",
    "|327 |  |  |  |  |  | |\n",
    "|... |  |  |  |  |  | |\n",
    "|499|  |  |  |  |  | |\n",
    "\n",
    "\n",
    "基本步骤如下：\n",
    "* 初始化Q-table为0\n",
    "* 开始探索动作，从当前状态s中任意选择一个action(a)\n",
    "* 通过action(a) 转移到下一个状态$S^{\\prime}$\n",
    "* 对于所有的状态$S^{\\prime}$，选择最高Q值的那个\n",
    "* 更新Q-table\n",
    "* 令next state为当前state\n",
    "* 如果到达目标，则结束并重复当前过程"
   ]
  },
  {
   "cell_type": "markdown",
   "metadata": {},
   "source": [
    "## Traning the Agent"
   ]
  },
  {
   "cell_type": "code",
   "execution_count": 34,
   "metadata": {},
   "outputs": [
    {
     "name": "stdout",
     "output_type": "stream",
     "text": [
      "Episode: 100000\n",
      "Training finished.\n",
      "\n"
     ]
    }
   ],
   "source": [
    "## 初始化Q-table为500x6的表格\n",
    "import numpy as np\n",
    "q_table = np.zeros([env.observation_space.n,env.action_space.n])\n",
    "\n",
    "import random\n",
    "from IPython.display import clear_output\n",
    "\n",
    "alpha = 0.1 # 学习率，每次更新的程度\n",
    "gamma = 0.6 # 折扣因子，对未来奖励的重视程度\n",
    "epsilon = 0.1 #探索率\n",
    "\n",
    "all_epochs = []\n",
    "all_penalties = []\n",
    "\n",
    "for i in range(1,100001):\n",
    "    state = env.reset()[0]\n",
    "\n",
    "    epochs,penalties,reward = 0,0,0\n",
    "    done = False\n",
    "\n",
    "    while not done:\n",
    "        if random.uniform(0,1)<epsilon:\n",
    "            action = env.action_space.sample()\n",
    "        else:\n",
    "            action = int(np.argmax(q_table[state]))\n",
    "        \n",
    "        next_state,reward,done,_,info = env.step(action)\n",
    "\n",
    "        old_value = q_table[state,action]\n",
    "        next_max = np.max(q_table[next_state])\n",
    "\n",
    "        new_value = (1-alpha)*old_value + alpha*(reward + gamma*next_max)\n",
    "        q_table[state,action] = new_value\n",
    "        if reward == -10:\n",
    "            penalties +=1\n",
    "            \n",
    "        state = next_state\n",
    "        epochs += 1\n",
    "    \n",
    "    if i% 100 ==0:\n",
    "        clear_output(wait=True)\n",
    "        print(f\"Episode: {i}\")\n",
    "\n",
    "print(\"Training finished.\\n\")\n"
   ]
  },
  {
   "cell_type": "code",
   "execution_count": 32,
   "metadata": {},
   "outputs": [
    {
     "name": "stdout",
     "output_type": "stream",
     "text": [
      "<class 'int'>\n",
      "(308, {'prob': 1.0, 'action_mask': array([1, 1, 0, 0, 0, 0], dtype=int8)})\n"
     ]
    }
   ],
   "source": [
    "a = np.array([1,2,3])\n",
    "print(type(np.argmax(a).item()))\n",
    "print(env.reset())"
   ]
  },
  {
   "cell_type": "code",
   "execution_count": 35,
   "metadata": {},
   "outputs": [
    {
     "data": {
      "text/plain": [
       "array([ -2.40917971,  -2.27325184,  -2.40333878,  -2.36018312,\n",
       "       -11.00438004, -10.07730281])"
      ]
     },
     "execution_count": 35,
     "metadata": {},
     "output_type": "execute_result"
    }
   ],
   "source": [
    "q_table[328]"
   ]
  },
  {
   "cell_type": "markdown",
   "metadata": {},
   "source": [
    "### Evaluate agent: performance after Q-learning\n",
    "\n"
   ]
  },
  {
   "cell_type": "code",
   "execution_count": 38,
   "metadata": {},
   "outputs": [
    {
     "name": "stdout",
     "output_type": "stream",
     "text": [
      "Results after 100 episodes:\n",
      "Average timesteps per episode: 13.6\n",
      "Average penalties per episode: 0.0\n"
     ]
    }
   ],
   "source": [
    "total_epochs, total_penalties = 0,0\n",
    "episodes = 100\n",
    "for _ in range(episodes):\n",
    "    state = env.reset()[0]\n",
    "    epochs, penalties,reward = 0,0,0\n",
    "\n",
    "    done = False\n",
    "\n",
    "    while not done:\n",
    "        action = np.argmax(q_table[state])\n",
    "        state,reward,done,_,info = env.step(action)\n",
    "\n",
    "        if reward == -10:\n",
    "            penalties += 1\n",
    "        epochs += 1\n",
    "\n",
    "    total_epochs += epochs\n",
    "    total_penalties += penalties\n",
    "\n",
    "print(f\"Results after {episodes} episodes:\")\n",
    "print(f\"Average timesteps per episode: {total_epochs / episodes}\")\n",
    "print(f\"Average penalties per episode: {total_penalties / episodes}\")\n",
    "\n"
   ]
  },
  {
   "cell_type": "markdown",
   "metadata": {},
   "source": [
    "$\\alpha$: 随着知识库变大而降低\n",
    "$\\gamma$: 如果\n",
    "$\\epsilon$: 探索率，更少的探索更多的利用策略应该减少"
   ]
  },
  {
   "cell_type": "code",
   "execution_count": null,
   "metadata": {},
   "outputs": [],
   "source": []
  }
 ],
 "metadata": {
  "kernelspec": {
   "display_name": "pytorch",
   "language": "python",
   "name": "python3"
  },
  "language_info": {
   "codemirror_mode": {
    "name": "ipython",
    "version": 3
   },
   "file_extension": ".py",
   "mimetype": "text/x-python",
   "name": "python",
   "nbconvert_exporter": "python",
   "pygments_lexer": "ipython3",
   "version": "3.9.19"
  }
 },
 "nbformat": 4,
 "nbformat_minor": 2
}
